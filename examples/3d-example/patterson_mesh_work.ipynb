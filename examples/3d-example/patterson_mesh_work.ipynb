{
 "cells": [
  {
   "cell_type": "code",
   "execution_count": null,
   "metadata": {
    "collapsed": true
   },
   "outputs": [],
   "source": [
    "import py_fault_slip\n",
    "import json\n",
    "from py_fault_slip import data_model"
   ]
  },
  {
   "cell_type": "markdown",
   "metadata": {},
   "source": [
    "For 3D meshes, analysis can be run on a list of files, like below"
   ]
  },
  {
   "cell_type": "code",
   "execution_count": 2,
   "metadata": {
    "collapsed": false,
    "pycharm": {
     "name": "#%% Normal Faulting\n"
    }
   },
   "outputs": [],
   "source": [
    "files = [\"./F1.ply\", \"./F2.ply\", \"./F3.ply\", \"./F4.ply\", \"./F5.ply\", \"./F6.ply\"]\n",
    "out_dir = \"./strike-slip/\""
   ]
  },
  {
   "cell_type": "markdown",
   "metadata": {},
   "source": [
    "## Initialize Data\n",
    "We use a json file as the input for our model parameters. Feel free to use this file as a template. \n"
   ]
  },
  {
   "cell_type": "code",
   "execution_count": null,
   "metadata": {
    "collapsed": false,
    "pycharm": {
     "name": "#%%\n"
    }
   },
   "outputs": [],
   "source": [
    "#These are additional parameters that control our model run. \n",
    "# Depth: Analysis depth in km \n",
    "# mode : \"mc\" (probablistic) or \"det\" (deterministic)\n",
    "# stress: regional stress field configuration \"normal\", \"reverse\", \"strike-slip\"\n",
    "# fail_percent : Failure threshold \n",
    "# datum : elevation datum of your input files (in m). This is significant when using 3D meshes\n",
    "ss_params = {'depth': 5, 'mode': 'mc', 'stress': 'strike-slip', 'fail_percent': 0.03, 'datum': 1160.0}\n",
    "# This json file holds the rest of our analysis parameters\n",
    "in_file = \"./patterson_strikeslip.json\"\n",
    "# load json\n",
    "with open(in_file) as json_file:\n",
    "    j_data = json.load(json_file)\n",
    "in_params_ss = j_data['input_data'][0]\n",
    "\n",
    "# initialize data model with json file\n",
    "ss_input_model = data_model.ModelInputs(in_params_ss)"
   ]
  },
  {
   "cell_type": "markdown",
   "metadata": {},
   "source": [
    "Now we run pyfaultslip on our input files"
   ]
  },
  {
   "cell_type": "code",
   "execution_count": 5,
   "metadata": {
    "collapsed": false,
    "pycharm": {
     "name": "#%%\n"
    }
   },
   "outputs": [],
   "source": [
    "py_fault_slip.slip_tendency_3d(files, ss_input_model, ss_params, out_dir=\"./strike-slip/\")"
   ]
  },
  {
   "cell_type": "markdown",
   "metadata": {
    "collapsed": false,
    "pycharm": {
     "name": "#%%\n"
    }
   },
   "source": [
    "And now we repeat the analysis for a normal faulting stress regime"
   ]
  },
  {
   "cell_type": "code",
   "execution_count": 6,
   "metadata": {
    "collapsed": false,
    "pycharm": {
     "name": "#%% Normal Faulting\n"
    }
   },
   "outputs": [],
   "source": [
    "files = [\"./F1.ply\", \"./F2.ply\", \"./F3.ply\", \"./F4.ply\", \"./F5.ply\", \"./F6.ply\"]\n",
    "out_normal = \"./normal/\""
   ]
  },
  {
   "cell_type": "code",
   "execution_count": 7,
   "metadata": {
    "collapsed": false,
    "pycharm": {
     "name": "#%%\n"
    }
   },
   "outputs": [],
   "source": [
    "n_params = {'depth': 5, 'mode': 'mc', 'stress': 'normal', 'fail_percent': 0.03, 'datum': 1160.0}\n",
    "in_file = \"./patterson_normal.json\"\n",
    "with open(in_file) as json_file:\n",
    "    j_data = json.load(json_file)\n",
    "in_params_n = j_data['input_data'][0]\n",
    "\n",
    "n_input_model = data_model.ModelInputs(in_params_n)"
   ]
  },
  {
   "cell_type": "code",
   "execution_count": 8,
   "metadata": {
    "collapsed": false,
    "pycharm": {
     "name": "#%%\n"
    }
   },
   "outputs": [],
   "source": [
    "py_fault_slip.slip_tendency_3d(files, n_input_model, n_params, out_dir=out_normal)"
   ]
  },
  {
   "cell_type": "code",
   "execution_count": 16,
   "metadata": {
    "collapsed": false,
    "pycharm": {
     "name": "#%%\n"
    }
   },
   "outputs": [],
   "source": []
  }
 ],
 "metadata": {
  "kernelspec": {
   "display_name": "Python 3",
   "language": "python",
   "name": "python3"
  },
  "language_info": {
   "codemirror_mode": {
    "name": "ipython",
    "version": 2
   },
   "file_extension": ".py",
   "mimetype": "text/x-python",
   "name": "python",
   "nbconvert_exporter": "python",
   "pygments_lexer": "ipython2",
   "version": "3.11.7"
  }
 },
 "nbformat": 4,
 "nbformat_minor": 0
}
